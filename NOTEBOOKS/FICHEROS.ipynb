{
  "nbformat": 4,
  "nbformat_minor": 0,
  "metadata": {
    "colab": {
      "provenance": []
    },
    "kernelspec": {
      "name": "python3",
      "display_name": "Python 3"
    },
    "language_info": {
      "name": "python"
    }
  },
  "cells": [
    {
      "cell_type": "markdown",
      "source": [
        "# Lectura"
      ],
      "metadata": {
        "id": "sPbnOISBeyng"
      }
    },
    {
      "cell_type": "markdown",
      "source": [
        "## Fichero completo"
      ],
      "metadata": {
        "id": "nZfgpWO1e1gO"
      }
    },
    {
      "cell_type": "code",
      "source": [
        "fichero = open('ejemplo.txt')\n",
        "print(fichero.read())"
      ],
      "metadata": {
        "id": "AEfrkeQ0e5O4"
      },
      "execution_count": null,
      "outputs": []
    },
    {
      "cell_type": "markdown",
      "source": [
        "## Fichero linea a linea "
      ],
      "metadata": {
        "id": "QrD3ErLse9RB"
      }
    },
    {
      "cell_type": "code",
      "source": [
        "fichero = open('ejemplo.txt')\n",
        "print(fichero.readline())\n",
        "print(fichero.readline())"
      ],
      "metadata": {
        "id": "-2QRJhVEe_i6"
      },
      "execution_count": null,
      "outputs": []
    },
    {
      "cell_type": "markdown",
      "source": [
        "## Guardar lista de lineas"
      ],
      "metadata": {
        "id": "FtiFxsC2fIxz"
      }
    },
    {
      "cell_type": "code",
      "source": [
        "fichero = open('ejemplo.txt')\n",
        "lineas = fichero.readlines()\n",
        "print(lineas)"
      ],
      "metadata": {
        "id": "V6GbmAx3fLT6"
      },
      "execution_count": null,
      "outputs": []
    },
    {
      "cell_type": "markdown",
      "source": [
        "## Argumentos del open\n",
        "\n",
        "- ‘r’: Por defecto, para leer el fichero.\n",
        "- ‘w’: Para escribir en el fichero.\n",
        "- ‘x’: Para la creación, fallando si ya existe.\n",
        "- ‘a’: Para añadir contenido a un fichero existente.\n",
        "- ‘b’: Para abrir en modo binario."
      ],
      "metadata": {
        "id": "xKteONY8fXBm"
      }
    },
    {
      "cell_type": "markdown",
      "source": [
        "# Escritura"
      ],
      "metadata": {
        "id": "GCkDoOk4fapO"
      }
    },
    {
      "cell_type": "code",
      "source": [
        "# Abre un nuevo fichero\n",
        "fichero = open(\"datos_guardados.txt\", 'w')\n",
        "\n",
        "# Abre un nuevo y añade el contenido al final\n",
        "fichero = open(\"datos_guardados.txt\", 'a')"
      ],
      "metadata": {
        "id": "dSM46h8xfk-x"
      },
      "execution_count": null,
      "outputs": []
    },
    {
      "cell_type": "markdown",
      "source": [
        "## Escribir una linea"
      ],
      "metadata": {
        "id": "LSZahojufmIz"
      }
    },
    {
      "cell_type": "code",
      "source": [
        "fichero = open(\"datos_guardados.txt\", 'w')\n",
        "fichero.write(\"Contenido a escribir\")\n",
        "fichero.close()"
      ],
      "metadata": {
        "id": "rfoBBoQMfq3j"
      },
      "execution_count": null,
      "outputs": []
    },
    {
      "cell_type": "markdown",
      "source": [
        "## Escribir varias lineas"
      ],
      "metadata": {
        "id": "tZuWiqxAfybz"
      }
    },
    {
      "cell_type": "code",
      "source": [
        "fichero = open(\"datos_guardados.txt\", 'w')\n",
        "lista = [\"Manzana\\n\", \"Pera\\n\", \"Plátano\\n\"]\n",
        "\n",
        "fichero.writelines(lista)\n",
        "fichero.close()"
      ],
      "metadata": {
        "id": "tkGdnxNXf0l6"
      },
      "execution_count": null,
      "outputs": []
    }
  ]
}