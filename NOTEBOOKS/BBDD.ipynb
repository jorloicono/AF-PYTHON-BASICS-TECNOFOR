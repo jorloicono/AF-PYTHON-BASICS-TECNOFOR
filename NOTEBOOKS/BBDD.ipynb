{
  "nbformat": 4,
  "nbformat_minor": 0,
  "metadata": {
    "colab": {
      "provenance": []
    },
    "kernelspec": {
      "name": "python3",
      "display_name": "Python 3"
    },
    "language_info": {
      "name": "python"
    }
  },
  "cells": [
    {
      "cell_type": "markdown",
      "source": [
        "## Crear conexión y tabla"
      ],
      "metadata": {
        "id": "H3Gj7uxnBBol"
      }
    },
    {
      "cell_type": "code",
      "execution_count": 1,
      "metadata": {
        "colab": {
          "base_uri": "https://localhost:8080/"
        },
        "id": "jIKbARuW6YXn",
        "outputId": "ab642479-8f0c-456c-ceea-a6cb43359bab"
      },
      "outputs": [
        {
          "output_type": "execute_result",
          "data": {
            "text/plain": [
              "<sqlite3.Cursor at 0x7fadf8663500>"
            ]
          },
          "metadata": {},
          "execution_count": 1
        }
      ],
      "source": [
        "import sqlite3\n",
        "\n",
        "conexion = sqlite3.connect(\"/content/tienda.db\")\n",
        "\n",
        "cursor = conexion.cursor()\n",
        "\n",
        "cursor.execute(\"CREATE TABLE PRODUCTOS (codigo INTEGER PRIMARY KEY, descripcion TEXT, precio REAL)\")"
      ]
    },
    {
      "cell_type": "markdown",
      "source": [
        "## Insertar datos"
      ],
      "metadata": {
        "id": "opfEm3qiBGKt"
      }
    },
    {
      "cell_type": "code",
      "source": [
        "cursor = conexion.cursor()\n",
        "#cursor.execute(\"INSERT INTO PRODUCTOS VALUES(1,'Pantalla',90)\")\n",
        "\n",
        "lista = [(2, 'Teclado',30),(3, 'Raton', 10)]\n",
        "\n",
        "sql = \"INSERT INTO PRODUCTOS values (?,?,?)\"\n",
        "\n",
        "cursor.executemany(sql,lista)\n",
        "\n",
        "conexion.commit()"
      ],
      "metadata": {
        "id": "rAwiPHeW8o7y"
      },
      "execution_count": 4,
      "outputs": []
    },
    {
      "cell_type": "markdown",
      "source": [
        "## Ejecutar consultas"
      ],
      "metadata": {
        "id": "poGQCzLqBITI"
      }
    },
    {
      "cell_type": "code",
      "source": [
        "cursor.execute(\"SELECT * FROM PRODUCTOS\")\n",
        "\n",
        "productos = cursor.fetchall()\n",
        "\n",
        "for producto in productos:\n",
        "  print(producto)"
      ],
      "metadata": {
        "colab": {
          "base_uri": "https://localhost:8080/"
        },
        "id": "1NIHX5Jq9m6m",
        "outputId": "47b8581b-7f06-417a-e3d4-9fe08baad495"
      },
      "execution_count": 5,
      "outputs": [
        {
          "output_type": "stream",
          "name": "stdout",
          "text": [
            "(1, 'Pantalla', 90.0)\n",
            "(2, 'Teclado', 30.0)\n",
            "(3, 'Raton', 10.0)\n"
          ]
        }
      ]
    },
    {
      "cell_type": "code",
      "source": [
        "cursor.execute(\"SELECT * FROM PRODUCTOS WHERE precio <50 ORDER BY codigo desc\")\n",
        "\n",
        "productos = cursor.fetchall()\n",
        "\n",
        "for producto in productos:\n",
        "  print(producto)"
      ],
      "metadata": {
        "colab": {
          "base_uri": "https://localhost:8080/"
        },
        "id": "1XfbwIx197gC",
        "outputId": "3bebc00a-a538-490d-cdf7-0f3e18bf571f"
      },
      "execution_count": 6,
      "outputs": [
        {
          "output_type": "stream",
          "name": "stdout",
          "text": [
            "(3, 'Raton', 10.0)\n",
            "(2, 'Teclado', 30.0)\n"
          ]
        }
      ]
    },
    {
      "cell_type": "code",
      "source": [
        "cursor.execute(\"SELECT * FROM PRODUCTOS WHERE DESCRIPCION LIKE 'R%'\")\n",
        "\n",
        "productos = cursor.fetchall()\n",
        "\n",
        "for producto in productos:\n",
        "  print(producto)"
      ],
      "metadata": {
        "colab": {
          "base_uri": "https://localhost:8080/"
        },
        "id": "X5LdvfGP-ICl",
        "outputId": "8de6ad62-cdad-411c-971d-fe61dd3abcdd"
      },
      "execution_count": 8,
      "outputs": [
        {
          "output_type": "stream",
          "name": "stdout",
          "text": [
            "(3, 'Raton', 10.0)\n"
          ]
        }
      ]
    },
    {
      "cell_type": "markdown",
      "source": [
        "## Actualizar y elimiar datos"
      ],
      "metadata": {
        "id": "Y8kxOQ2YBKzu"
      }
    },
    {
      "cell_type": "code",
      "source": [
        "cursor.execute(\"UPDATE PRODUCTOS SET precio =50 WHERE descripcion = 'Raton'\")\n",
        "\n",
        "cursor.execute(\"DELETE FROM PRODUCTOS WHERE codigo = 1\")\n",
        "\n",
        "conexion.commit()"
      ],
      "metadata": {
        "id": "d_Bsc17x-VTf"
      },
      "execution_count": 11,
      "outputs": []
    },
    {
      "cell_type": "code",
      "source": [
        "cursor.execute(\"SELECT * FROM PRODUCTOS\")\n",
        "\n",
        "productos = cursor.fetchall()\n",
        "\n",
        "for producto in productos:\n",
        "  print(producto)"
      ],
      "metadata": {
        "colab": {
          "base_uri": "https://localhost:8080/"
        },
        "id": "qwrn8kWw-sy5",
        "outputId": "8d0e918f-9fd7-4bc2-b720-97056937e266"
      },
      "execution_count": 12,
      "outputs": [
        {
          "output_type": "stream",
          "name": "stdout",
          "text": [
            "(2, 'Teclado', 30.0)\n",
            "(3, 'Raton', 50.0)\n"
          ]
        }
      ]
    },
    {
      "cell_type": "markdown",
      "source": [
        "## Cerrar conexión"
      ],
      "metadata": {
        "id": "gRBwdUANBOZJ"
      }
    },
    {
      "cell_type": "code",
      "source": [
        "conexion.close()"
      ],
      "metadata": {
        "id": "z66WlOnN-4qC"
      },
      "execution_count": 14,
      "outputs": []
    }
  ]
}