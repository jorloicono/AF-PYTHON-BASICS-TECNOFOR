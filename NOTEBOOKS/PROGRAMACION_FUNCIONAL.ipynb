{
  "nbformat": 4,
  "nbformat_minor": 0,
  "metadata": {
    "colab": {
      "provenance": []
    },
    "kernelspec": {
      "name": "python3",
      "display_name": "Python 3"
    },
    "language_info": {
      "name": "python"
    }
  },
  "cells": [
    {
      "cell_type": "markdown",
      "source": [
        "## MAP"
      ],
      "metadata": {
        "id": "waMTM5uD-jnj"
      }
    },
    {
      "cell_type": "markdown",
      "source": [
        "## Lista"
      ],
      "metadata": {
        "id": "t8bb8tes-lbC"
      }
    },
    {
      "cell_type": "code",
      "source": [
        "numeros = [3,8,4,2,1]\n",
        "\n",
        "def duplicar(numero):\n",
        "  return numero*2\n",
        "\n",
        "numerosdobles = list(map(duplicar, numeros))\n",
        "print(numerosdobles)"
      ],
      "metadata": {
        "id": "SSM6STsM-nhS"
      },
      "execution_count": null,
      "outputs": []
    },
    {
      "cell_type": "markdown",
      "source": [
        "## Diccionario"
      ],
      "metadata": {
        "id": "RwUydhZV-qJy"
      }
    },
    {
      "cell_type": "code",
      "source": [
        "alumnos = dict(Luis=8, Maria=9, Raul=7)\n",
        "\n",
        "def sumarPunto(item):\n",
        "  return item[0], item[1] + 1\n",
        "\n",
        "nuevasnotas = dict(map(sumarPunto, alumnos.items()))\n",
        "\n",
        "print(nuevasnotas)"
      ],
      "metadata": {
        "id": "29fNRwUI-pr6"
      },
      "execution_count": null,
      "outputs": []
    },
    {
      "cell_type": "markdown",
      "source": [
        "# FILTER"
      ],
      "metadata": {
        "id": "yIU-alk9-vL0"
      }
    },
    {
      "cell_type": "markdown",
      "source": [
        "## Lista"
      ],
      "metadata": {
        "id": "mGNJ5tQq-xLo"
      }
    },
    {
      "cell_type": "code",
      "source": [
        "numeros = [2,4,3,2,1,6,7]\n",
        "\n",
        "def pares(numero):\n",
        "  if numero%2 == 0:\n",
        "    return True\n",
        "  else:\n",
        "    return False\n",
        "\n",
        "numerospares = list(filter(pares, numeros))\n",
        "\n",
        "print(numerospares)"
      ],
      "metadata": {
        "id": "W9G02j7H-zBq"
      },
      "execution_count": null,
      "outputs": []
    },
    {
      "cell_type": "markdown",
      "source": [
        "## Diccionario"
      ],
      "metadata": {
        "id": "8LnfgbXJ-1_K"
      }
    },
    {
      "cell_type": "code",
      "source": [
        "alumnos = dict(Luis=8, Maria=9, Raul=7)\n",
        "\n",
        "def menosdeocho(item):\n",
        "  if (item[1] < 8):\n",
        "    return True\n",
        "  else:\n",
        "    return False\n",
        "\n",
        "menosdeocho = dict(filter(menosdeocho, alumnos.items()))\n",
        "\n",
        "print(menosdeocho)"
      ],
      "metadata": {
        "id": "JDRUApCj-4RT"
      },
      "execution_count": null,
      "outputs": []
    },
    {
      "cell_type": "markdown",
      "source": [
        "## Clase"
      ],
      "metadata": {
        "id": "WKwUCa85-5AG"
      }
    },
    {
      "cell_type": "code",
      "source": [
        "class Persona:\n",
        "\n",
        "  def __init__(self, nombre, edad):\n",
        "    self.nombre = nombre\n",
        "    self.edad = edad\n",
        "  \n",
        "  def mostrar(self):\n",
        "    print(\"Hola, soy {} y tengo {} años\".format(self.nombre, self.edad))\n",
        "\n",
        "personas=[Persona(\"Juan\", 20), Persona(\"Maria\",30)]\n",
        "\n",
        "def menosveinticinco(persona):\n",
        "  if persona.edad < 25:\n",
        "    return True\n",
        "  else:\n",
        "    return False\n",
        "\n",
        "menosveinticinco = list(filter(menosveinticinco, personas))\n",
        "\n",
        "for persona in menosveinticinco:\n",
        "  persona.mostrar()"
      ],
      "metadata": {
        "id": "mqfQHDXS-9X3"
      },
      "execution_count": null,
      "outputs": []
    },
    {
      "cell_type": "markdown",
      "source": [
        "# REDUCE"
      ],
      "metadata": {
        "id": "w6_lbSUr--VQ"
      }
    },
    {
      "cell_type": "markdown",
      "source": [
        "## Lista"
      ],
      "metadata": {
        "id": "uYoDTIzh-_gR"
      }
    },
    {
      "cell_type": "code",
      "source": [
        "from functools import reduce \n",
        "\n",
        "numeros = [3,4,2,1,3,4]\n",
        "\n",
        "def sumar(resultado, num):\n",
        "  return resultado + num\n",
        "\n",
        "print(\"Suma: \", reduce(sumar,numeros))"
      ],
      "metadata": {
        "id": "EPHFAzEQ_DYC"
      },
      "execution_count": null,
      "outputs": []
    },
    {
      "cell_type": "code",
      "source": [
        "colores = ['rojo', 'verde', 'azul']\n",
        "\n",
        "def concatenar(resultado, color):\n",
        "  return resultado + \"-\" + color\n",
        "\n",
        "print(reduce(concatenar,colores))"
      ],
      "metadata": {
        "id": "p4h_brF3_Gtt"
      },
      "execution_count": null,
      "outputs": []
    },
    {
      "cell_type": "markdown",
      "source": [
        "# LAMBDA"
      ],
      "metadata": {
        "id": "IAAjWYWD_LKS"
      }
    },
    {
      "cell_type": "code",
      "source": [
        "def suma(a,b):\n",
        "  return a+b\n",
        "\n",
        "sumar = lambda a,b : a + b\n",
        "\n",
        "suma(2,3)\n",
        "sumar(2,3)\n",
        "\n",
        "(lambda a,b : a + b)(4,5)"
      ],
      "metadata": {
        "id": "vumL_y2U_PBV"
      },
      "execution_count": null,
      "outputs": []
    },
    {
      "cell_type": "markdown",
      "source": [
        "## Argumentos Variables"
      ],
      "metadata": {
        "id": "8mzmvqXn_M6V"
      }
    },
    {
      "cell_type": "code",
      "source": [
        "(lambda *args: sum(args))(1,2,3,2,1)\n",
        "\n",
        "(lambda **kwargs: sum(kwargs.values()))(a=1, b=2,c=3)"
      ],
      "metadata": {
        "id": "v0J5v-H__MfW"
      },
      "execution_count": null,
      "outputs": []
    },
    {
      "cell_type": "markdown",
      "source": [
        "## MAP"
      ],
      "metadata": {
        "id": "QqN7lWqS_Wpt"
      }
    },
    {
      "cell_type": "code",
      "source": [
        "numeros = [3,8,4,2,1]\n",
        "numerosdobles = list(map(lambda numero: numero*2, numeros))\n",
        "print(numerosdobles)\n",
        "\n",
        "alumnos = dict(Luis=8, Maria=9, Raul=7)\n",
        "nuevasnotas = dict(map(lambda item: (item[0],item[1]+ 1), alumnos.items()))\n",
        "print(nuevasnotas)"
      ],
      "metadata": {
        "id": "REHHOMpt_YLp"
      },
      "execution_count": null,
      "outputs": []
    },
    {
      "cell_type": "markdown",
      "source": [
        "## FILTER"
      ],
      "metadata": {
        "id": "mSH4n4Eq_af1"
      }
    },
    {
      "cell_type": "code",
      "source": [
        "numeros = [2,4,3,2,1,6,7]\n",
        "numerospares = list(filter(lambda numero: numero%2 == 0, numeros))\n",
        "print(numerospares)\n",
        "\n",
        "alumnos = dict(Luis=8, Maria=9, Raul=7)\n",
        "menosdeocho = dict(filter(lambda item: item[1]<8, alumnos.items()))\n",
        "print(menosdeocho)"
      ],
      "metadata": {
        "id": "-ieoY8dJ_b6U"
      },
      "execution_count": null,
      "outputs": []
    },
    {
      "cell_type": "markdown",
      "source": [
        "## REDUCE"
      ],
      "metadata": {
        "id": "0QzFh0Vp_ez6"
      }
    },
    {
      "cell_type": "code",
      "source": [
        "from functools import reduce \n",
        "\n",
        "numeros = [3,4,2,1,3,4]\n",
        "print(\"Suma: \", reduce(lambda resultado, num: resultado + num,numeros))\n",
        "\n",
        "\n",
        "colores = ['rojo', 'verde', 'azul']\n",
        "print(reduce(lambda resultado, color: resultado + \"-\" + color,colores))"
      ],
      "metadata": {
        "id": "pWnAyy-P_gI9"
      },
      "execution_count": null,
      "outputs": []
    }
  ]
}