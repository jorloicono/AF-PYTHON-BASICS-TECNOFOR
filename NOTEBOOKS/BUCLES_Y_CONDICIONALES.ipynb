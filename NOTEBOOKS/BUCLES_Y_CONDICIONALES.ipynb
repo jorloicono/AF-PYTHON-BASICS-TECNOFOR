{
  "nbformat": 4,
  "nbformat_minor": 0,
  "metadata": {
    "colab": {
      "provenance": []
    },
    "kernelspec": {
      "name": "python3",
      "display_name": "Python 3"
    },
    "language_info": {
      "name": "python"
    }
  },
  "cells": [
    {
      "cell_type": "markdown",
      "source": [
        "# Condicional IF"
      ],
      "metadata": {
        "id": "2rtAwSpGHSGD"
      }
    },
    {
      "cell_type": "code",
      "execution_count": null,
      "metadata": {
        "id": "XNQ_ZOBhG4fo"
      },
      "outputs": [],
      "source": [
        "numero = int(input(\"Introduce un numero entre 1 y el 10: \"))\n",
        "\n",
        "if numero < 1 : \n",
        "  print(\"El numero no puede ser menor que 1\")\n",
        "else: \n",
        "  if numero > 10 :\n",
        "    print(\"El numero no puede ser mayor que 10\")\n",
        "  else : \n",
        "    print(\"Bien!\")"
      ]
    },
    {
      "cell_type": "markdown",
      "source": [
        "## ELIF"
      ],
      "metadata": {
        "id": "-a3uVz6lHWOp"
      }
    },
    {
      "cell_type": "code",
      "source": [
        "numero = int(input(\"Introduce un numero entre 1 y el 10: \"))\n",
        "\n",
        "if numero < 1 : \n",
        "  print(\"El numero no puede ser menor que 1\")\n",
        "elif numero > 30 :\n",
        "  print(\"El numero no puede ser mayor que 10. Te has pasado por mucho!!!\")\n",
        "elif numero > 10 :\n",
        "  print(\"El numero no puede ser mayor que 10\")\n",
        "else : \n",
        "  print(\"Bien!\")"
      ],
      "metadata": {
        "id": "3DxHfpJZHaNJ"
      },
      "execution_count": null,
      "outputs": []
    },
    {
      "cell_type": "markdown",
      "source": [
        "## Match"
      ],
      "metadata": {
        "id": "VprgfnpNHbdC"
      }
    },
    {
      "cell_type": "code",
      "source": [
        "error = input('Introduzca un código de error:\\n')\n",
        " \n",
        "match error:\n",
        "    case \"200\":\n",
        "        print('Todo ok.')\n",
        "    case \"404\":\n",
        "        print('Página no encontrada.')\n",
        "    case \"500\":\n",
        "        print('Error interno del servidor.')\n",
        "    case _:\n",
        "        print('Error no disponible.')"
      ],
      "metadata": {
        "id": "Jeed_HvWHfs0"
      },
      "execution_count": null,
      "outputs": []
    },
    {
      "cell_type": "markdown",
      "source": [
        "## Operador ternario"
      ],
      "metadata": {
        "id": "LD5IRqkQH5EB"
      }
    },
    {
      "cell_type": "code",
      "source": [
        "x = 5\n",
        "print(\"Es 5\" if x == 5 else \"No es 5\")"
      ],
      "metadata": {
        "id": "bDGYBUUYH7XJ"
      },
      "execution_count": null,
      "outputs": []
    },
    {
      "cell_type": "markdown",
      "source": [
        "# Bucle FOR"
      ],
      "metadata": {
        "id": "Nh7ak8VVHgv7"
      }
    },
    {
      "cell_type": "code",
      "source": [
        "nombres = [\"Luis\", \"Jorge\", \"Maria\", \"Laura\", \"Pedro\"]\n",
        "\n",
        "for item in nombres :\n",
        "    print(item)\n",
        "print(\"------------  FIN ----------\")\n",
        "\n",
        "for numero in range(10): # Rango va de 0 al numero-1\n",
        "    print(numero)\n",
        "print(\"------------  FIN ----------\")\n",
        "\n",
        "for numero in range(1,11): \n",
        "    print(numero)\n",
        "print(\"------------  FIN ----------\")\n",
        "for numero in range(0, 10, 2): \n",
        "    print(numero)\n",
        "print(\"------------  FIN ----------\")\n",
        "for i in range(len(nombres)): \n",
        "    print(nombres[i])\n",
        "print(\"------------  FIN ----------\")"
      ],
      "metadata": {
        "id": "nzY0eyloHm_1"
      },
      "execution_count": null,
      "outputs": []
    },
    {
      "cell_type": "markdown",
      "source": [
        "## FOR anidado"
      ],
      "metadata": {
        "id": "ZPIySpW0Hnt2"
      }
    },
    {
      "cell_type": "code",
      "source": [
        "for tabla in range(10,0,-1):\n",
        "  print(\"**** Tabla del \", tabla, \" ****\")\n",
        "  for num in range(1,11):\n",
        "    print(tabla,\"*\",num,\"=\",tabla*num)\n",
        "  print()"
      ],
      "metadata": {
        "id": "bgcvwQ_2Hrr_"
      },
      "execution_count": null,
      "outputs": []
    },
    {
      "cell_type": "markdown",
      "source": [
        "## Break y continue"
      ],
      "metadata": {
        "id": "oMUE1GuoIC-N"
      }
    },
    {
      "cell_type": "code",
      "source": [
        "cadena = 'Python'\n",
        "for letra in cadena:\n",
        "    if letra == 'h':\n",
        "        print(\"Se encontró la h\")\n",
        "        break\n",
        "    print(letra)\n",
        "\n",
        "cadena = 'Python'\n",
        "for letra in cadena:\n",
        "    if letra == 'P':\n",
        "        continue\n",
        "    print(letra)"
      ],
      "metadata": {
        "id": "kGf_iiJzIFJV"
      },
      "execution_count": null,
      "outputs": []
    },
    {
      "cell_type": "markdown",
      "source": [
        "##List comprehension"
      ],
      "metadata": {
        "id": "eLAjOHPIIN_q"
      }
    },
    {
      "cell_type": "code",
      "source": [
        "cuadrados = [i**2 for i in range(5)]\n",
        "\n",
        "frase = \"El perro de san roque no tiene rabo\"\n",
        "erres = [i for i in frase if i == 'r']\n",
        "#['r', 'r', 'r', 'r']"
      ],
      "metadata": {
        "id": "UdOf_f3OIQP9"
      },
      "execution_count": null,
      "outputs": []
    },
    {
      "cell_type": "code",
      "source": [],
      "metadata": {
        "id": "YUP-dyoBINiW"
      },
      "execution_count": null,
      "outputs": []
    },
    {
      "cell_type": "markdown",
      "source": [
        "# WHILE"
      ],
      "metadata": {
        "id": "t5YSkjrEHvhh"
      }
    },
    {
      "cell_type": "code",
      "source": [
        "num = 1\n",
        "while num <= 10 :\n",
        "    print(num)\n",
        "    num += 1\n",
        "print(\"--------  FIN -------\")\n",
        "\n",
        "# recorrer la coleccion\n",
        "nombres = [\"Luis\", \"Jorge\", \"Maria\", \"Laura\", \"Pedro\"]\n",
        "i = 0\n",
        "while i < len(nombres):\n",
        "    print(nombres[i])\n",
        "    i += 1\n",
        "print(\"--------  FIN -------\")"
      ],
      "metadata": {
        "id": "fUMg6OZ9HxIX"
      },
      "execution_count": null,
      "outputs": []
    },
    {
      "cell_type": "markdown",
      "source": [
        "## Else"
      ],
      "metadata": {
        "id": "agncX4cKIhjx"
      }
    },
    {
      "cell_type": "code",
      "source": [
        "x = 5\n",
        "while x > 0:\n",
        "    x -=1\n",
        "    print(x) #4,3,2,1,0\n",
        "else:\n",
        "    print(\"El bucle ha finalizado\")\n",
        "\n",
        "x = 5\n",
        "while True:\n",
        "    x -= 1\n",
        "    print(x) #4, 3, 2, 1, 0\n",
        "    if x == 0:\n",
        "        break\n",
        "else:\n",
        "    # El print no se ejecuta\n",
        "    print(\"Fin del bucle\")"
      ],
      "metadata": {
        "id": "8SRQPW22IjDq"
      },
      "execution_count": null,
      "outputs": []
    }
  ]
}