{
  "nbformat": 4,
  "nbformat_minor": 0,
  "metadata": {
    "colab": {
      "provenance": []
    },
    "kernelspec": {
      "name": "python3",
      "display_name": "Python 3"
    },
    "language_info": {
      "name": "python"
    }
  },
  "cells": [
    {
      "cell_type": "markdown",
      "source": [
        "# ELEMENTOS SINTÁCTICOS DEL LENGUAJES\n",
        "\n",
        "\n",
        "\n",
        "\n"
      ],
      "metadata": {
        "id": "Qvivfuqcga9W"
      }
    },
    {
      "cell_type": "markdown",
      "source": [
        "## TIPOS DE DATOS"
      ],
      "metadata": {
        "id": "HFiVjo9vkBkJ"
      }
    },
    {
      "cell_type": "code",
      "execution_count": 26,
      "metadata": {
        "colab": {
          "base_uri": "https://localhost:8080/"
        },
        "id": "FpuUIoyrSca3",
        "outputId": "7288e13b-95e5-4c0f-fed7-057bc6f6f5d0"
      },
      "outputs": [
        {
          "output_type": "stream",
          "name": "stdout",
          "text": [
            "casa grande\n",
            "<class 'str'>\n",
            "<class 'float'>\n",
            "<class 'bool'>\n"
          ]
        }
      ],
      "source": [
        "A=3\n",
        "B='casa'\n",
        "C = ' grande'\n",
        "D= 9.234\n",
        "E=True\n",
        "\n",
        "print(B+C)\n",
        "\n",
        "print(type(B))\n",
        "print(type(D))\n",
        "print(type(E))"
      ]
    },
    {
      "cell_type": "markdown",
      "source": [
        "## INPUT"
      ],
      "metadata": {
        "id": "rTMIpyWYkOhx"
      }
    },
    {
      "cell_type": "code",
      "source": [
        "sumando1 = input(\"Introduzca el primer sumando: \")\n",
        "sumando2 = input(\"Introduzca el segundo sumando: \")\n",
        "\n",
        "\n",
        "print(\"Resultado: \", int(sumando1) + int(sumando2))\n",
        "\n",
        "sumando1 = float(input(\"Introduzca el primer sumando: \"))\n",
        "sumando2 = float(input(\"Introduzca el segundo sumando: \"))\n",
        "\n",
        "\n",
        "print(\"Resultado: \", sumando1 + sumando2)"
      ],
      "metadata": {
        "id": "WiNHa06HkRIV"
      },
      "execution_count": null,
      "outputs": []
    },
    {
      "cell_type": "markdown",
      "source": [
        "## PRINT"
      ],
      "metadata": {
        "id": "3JCx6Rt4kVaX"
      }
    },
    {
      "cell_type": "code",
      "source": [
        "print(\"Juan\", \"Jose\", \"Pedro\", \"Antonio\", sep = ', ', end = '.')"
      ],
      "metadata": {
        "id": "C6mvvbSskYpM"
      },
      "execution_count": null,
      "outputs": []
    },
    {
      "cell_type": "markdown",
      "source": [
        "## METODOS STRINGS"
      ],
      "metadata": {
        "id": "m53NWRukkZiR"
      }
    },
    {
      "cell_type": "code",
      "source": [
        "texto = \"Curso de Python\"\n",
        "\n",
        "print(texto.capitalize())\n",
        "print(texto.isalpha())\n",
        "print(texto.upper())\n",
        "print(texto.lower())\n",
        "print(texto.islower())\n",
        "\n",
        "print(len(texto))\n",
        "print(max(texto))\n",
        "print(min(texto))\n",
        "\n",
        "print(texto.replace('e','E'))\n",
        "print(texto.split())\n",
        "\n",
        "print(\"22/11/2022\".split('/'))\n",
        "datos= \"22/11/2022\".split('/')\n",
        "dia = datos[0]\n",
        "mes = datos[1]\n",
        "año = datos[2]\n",
        "print(dia)"
      ],
      "metadata": {
        "id": "XF3D8eqbkegr"
      },
      "execution_count": null,
      "outputs": []
    },
    {
      "cell_type": "markdown",
      "source": [
        "## OPERADORES ARITMÉTICOS"
      ],
      "metadata": {
        "id": "FY4-o-hTkfZa"
      }
    },
    {
      "cell_type": "code",
      "source": [
        "numero1 = 2\n",
        "numero2 = 3\n",
        "\n",
        "print(numero1 + numero2)\n",
        "\n",
        "print(numero1 % numero2)\n",
        "\n",
        "print(numero1 // numero2)\n",
        "\n",
        "numero1 = numero1 + 1\n",
        "numero1 += 1\n",
        "\n",
        "print(numero1)"
      ],
      "metadata": {
        "id": "UXVPKgsOknHO"
      },
      "execution_count": null,
      "outputs": []
    },
    {
      "cell_type": "markdown",
      "source": [
        "## OPERADORES DE COMPARACIÓN"
      ],
      "metadata": {
        "id": "roK7SYRkkoPa"
      }
    },
    {
      "cell_type": "code",
      "source": [
        "numero1 = 7\n",
        "numero2 = 5\n",
        "\n",
        "print(\"Menor:\", numero1 < numero2)\n",
        "print(\"Igual:\", numero1 == numero2)\n",
        "print(\"Diferente:\", numero1 != numero2)\n",
        "\n",
        "print(\"not:\", not(numero1 < numero2))\n",
        "print(\"and:\", (numero1 < numero2) and (numero2 == 5))\n",
        "print(\"or:\", (numero1 < numero2) or (numero2 == 5))"
      ],
      "metadata": {
        "id": "LbKay3YNksTv"
      },
      "execution_count": null,
      "outputs": []
    },
    {
      "cell_type": "markdown",
      "source": [
        "## OPERADOR DE PERTENENCIA"
      ],
      "metadata": {
        "id": "T2QoC7ECk2Xq"
      }
    },
    {
      "cell_type": "code",
      "source": [
        "num1 = 6\n",
        "num2 = 6\n",
        "print(\"Mismo contenido?\", num1 is num2) # True porque la variable contiene el numero\n",
        "\n",
        "nombres1 = ['Juan', 'Maria']\n",
        "nombres2 = ['Juan', 'Maria']\n",
        "print(\"Mismo contenido?\", nombres1 is nombres2) # False porque los objetos son diferentes\n",
        "\n",
        "name1 = 'Jorge'\n",
        "name2 = 'Jorge'\n",
        "print(\"Mismo contenido?\", name1 is name2) # True porque los str en Python son tipos basicos\n",
        "\n",
        "print(\"in\", 'Luis' in nombres1)\n",
        "print(\"in\", 'Maria' in nombres1)\n",
        "print(\"not in\", 'Luis' not in nombres1)"
      ],
      "metadata": {
        "id": "_SFo-0V3k4jk"
      },
      "execution_count": null,
      "outputs": []
    }
  ]
}