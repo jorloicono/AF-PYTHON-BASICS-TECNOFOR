{
 "cells": [
  {
   "attachments": {},
   "cell_type": "markdown",
   "metadata": {},
   "source": [
    "## Tk"
   ]
  },
  {
   "cell_type": "code",
   "execution_count": 2,
   "metadata": {},
   "outputs": [],
   "source": [
    "from tkinter import *\n",
    "\n",
    "# Configuración de la raíz\n",
    "root = Tk()\n",
    "root.title(\"Hola mundo\")\n",
    "root.resizable(1,1)\n",
    "root.iconbitmap('C:/Users/Juan/Desktop/AF-PYTHON/DATOS/hola.ico')\n",
    "\n",
    "# Finalmente bucle de la aplicación\n",
    "root.mainloop()"
   ]
  },
  {
   "attachments": {},
   "cell_type": "markdown",
   "metadata": {},
   "source": [
    "## Frame"
   ]
  },
  {
   "cell_type": "code",
   "execution_count": 3,
   "metadata": {},
   "outputs": [],
   "source": [
    "from tkinter import *\n",
    "\n",
    "# Configuración de la raíz\n",
    "root = Tk()\n",
    "root.title(\"Hola mundo\")\n",
    "root.resizable(1,1)\n",
    "root.iconbitmap('C:/Users/Juan/Desktop/AF-PYTHON/DATOS/hola.ico')\n",
    "\n",
    "frame = Frame(root, width=480, height=320)\n",
    "frame.pack(fill='both', expand=1)\n",
    "frame.config(cursor=\"pirate\")\n",
    "frame.config(bg=\"lightblue\")\n",
    "frame.config(bd=25)\n",
    "frame.config(relief=\"sunken\")\n",
    "\n",
    "root.config(cursor=\"arrow\")\n",
    "root.config(bg=\"blue\")\n",
    "root.config(bd=15)\n",
    "root.config(relief=\"ridge\")\n",
    "\n",
    "# Finalmente bucle de la aplicación\n",
    "root.mainloop()"
   ]
  },
  {
   "attachments": {},
   "cell_type": "markdown",
   "metadata": {},
   "source": [
    "## Label"
   ]
  },
  {
   "cell_type": "code",
   "execution_count": 6,
   "metadata": {},
   "outputs": [
    {
     "ename": "TclError",
     "evalue": "image \"pyimage2\" doesn't exist",
     "output_type": "error",
     "traceback": [
      "\u001b[1;31m---------------------------------------------------------------------------\u001b[0m",
      "\u001b[1;31mTclError\u001b[0m                                  Traceback (most recent call last)",
      "Cell \u001b[1;32mIn[6], line 21\u001b[0m\n\u001b[0;32m     17\u001b[0m label\u001b[39m.\u001b[39mconfig(textvariable\u001b[39m=\u001b[39mtexto)\n\u001b[0;32m     20\u001b[0m imagen \u001b[39m=\u001b[39m PhotoImage(file\u001b[39m=\u001b[39m\u001b[39m\"\u001b[39m\u001b[39mC:/Users/Juan/Desktop/AF-PYTHON/DATOS/imagen.gif\u001b[39m\u001b[39m\"\u001b[39m)\n\u001b[1;32m---> 21\u001b[0m Label(root, image\u001b[39m=\u001b[39;49mimagen, bd\u001b[39m=\u001b[39;49m\u001b[39m0\u001b[39;49m)\u001b[39m.\u001b[39mpack(side\u001b[39m=\u001b[39m\u001b[39m\"\u001b[39m\u001b[39mleft\u001b[39m\u001b[39m\"\u001b[39m)\n\u001b[0;32m     23\u001b[0m \u001b[39m# Finalmente bucle de la aplicación\u001b[39;00m\n\u001b[0;32m     24\u001b[0m root\u001b[39m.\u001b[39mmainloop()\n",
      "File \u001b[1;32mc:\\Users\\Juan\\AppData\\Local\\Programs\\Python\\Python310\\lib\\tkinter\\__init__.py:3177\u001b[0m, in \u001b[0;36mLabel.__init__\u001b[1;34m(self, master, cnf, **kw)\u001b[0m\n\u001b[0;32m   3159\u001b[0m \u001b[39mdef\u001b[39;00m \u001b[39m__init__\u001b[39m(\u001b[39mself\u001b[39m, master\u001b[39m=\u001b[39m\u001b[39mNone\u001b[39;00m, cnf\u001b[39m=\u001b[39m{}, \u001b[39m*\u001b[39m\u001b[39m*\u001b[39mkw):\n\u001b[0;32m   3160\u001b[0m \u001b[39m    \u001b[39m\u001b[39m\"\"\"Construct a label widget with the parent MASTER.\u001b[39;00m\n\u001b[0;32m   3161\u001b[0m \n\u001b[0;32m   3162\u001b[0m \u001b[39m    STANDARD OPTIONS\u001b[39;00m\n\u001b[1;32m   (...)\u001b[0m\n\u001b[0;32m   3175\u001b[0m \n\u001b[0;32m   3176\u001b[0m \u001b[39m    \"\"\"\u001b[39;00m\n\u001b[1;32m-> 3177\u001b[0m     Widget\u001b[39m.\u001b[39;49m\u001b[39m__init__\u001b[39;49m(\u001b[39mself\u001b[39;49m, master, \u001b[39m'\u001b[39;49m\u001b[39mlabel\u001b[39;49m\u001b[39m'\u001b[39;49m, cnf, kw)\n",
      "File \u001b[1;32mc:\\Users\\Juan\\AppData\\Local\\Programs\\Python\\Python310\\lib\\tkinter\\__init__.py:2601\u001b[0m, in \u001b[0;36mBaseWidget.__init__\u001b[1;34m(self, master, widgetName, cnf, kw, extra)\u001b[0m\n\u001b[0;32m   2599\u001b[0m \u001b[39mfor\u001b[39;00m k, v \u001b[39min\u001b[39;00m classes:\n\u001b[0;32m   2600\u001b[0m     \u001b[39mdel\u001b[39;00m cnf[k]\n\u001b[1;32m-> 2601\u001b[0m \u001b[39mself\u001b[39;49m\u001b[39m.\u001b[39;49mtk\u001b[39m.\u001b[39;49mcall(\n\u001b[0;32m   2602\u001b[0m     (widgetName, \u001b[39mself\u001b[39;49m\u001b[39m.\u001b[39;49m_w) \u001b[39m+\u001b[39;49m extra \u001b[39m+\u001b[39;49m \u001b[39mself\u001b[39;49m\u001b[39m.\u001b[39;49m_options(cnf))\n\u001b[0;32m   2603\u001b[0m \u001b[39mfor\u001b[39;00m k, v \u001b[39min\u001b[39;00m classes:\n\u001b[0;32m   2604\u001b[0m     k\u001b[39m.\u001b[39mconfigure(\u001b[39mself\u001b[39m, v)\n",
      "\u001b[1;31mTclError\u001b[0m: image \"pyimage2\" doesn't exist"
     ]
    }
   ],
   "source": [
    "from tkinter import *\n",
    "\n",
    "# Configuración de la raíz\n",
    "root = Tk()\n",
    "\n",
    "\n",
    "# Variables dinámicas\n",
    "texto = StringVar()\n",
    "texto.set(\"Un nuevo texto\")\n",
    "\n",
    "Label(root, text=\"¡Hola mundo!\").pack(anchor=\"nw\")\n",
    "label = Label(root, text=\"¡Otra etiqueta!\")\n",
    "label.pack(anchor=\"center\")\n",
    "Label(root, text=\"¡Última etiqueta!\").pack(anchor=\"se\")\n",
    "\n",
    "label.config(bg=\"green\", fg=\"blue\", font=(\"Verdana\",24))\n",
    "label.config(textvariable=texto)\n",
    "\n",
    "\n",
    "imagen = PhotoImage(file=\"C:/Users/Juan/Desktop/AF-PYTHON/DATOS/imagen.gif\")\n",
    "Label(root, image=imagen, bd=0).pack(side=\"left\")\n",
    "\n",
    "# Finalmente bucle de la aplicación\n",
    "root.mainloop()\n",
    "\n",
    "## si sale pyimage en otra pestaña"
   ]
  },
  {
   "attachments": {},
   "cell_type": "markdown",
   "metadata": {},
   "source": [
    "## Entry"
   ]
  },
  {
   "cell_type": "code",
   "execution_count": 7,
   "metadata": {},
   "outputs": [],
   "source": [
    "from tkinter import *\n",
    "\n",
    "# Configuración de la raíz\n",
    "root = Tk()\n",
    "\n",
    "label = Label(root, text=\"Nombre muy largo\")\n",
    "label.grid(row=0, column=0, sticky=\"w\", padx=5, pady=5)\n",
    "\n",
    "entry = Entry(root)\n",
    "entry.grid(row=0, column=1, padx=5, pady=5)\n",
    "entry.config(justify=\"right\", state=\"normal\")\n",
    "\n",
    "label2 = Label(root, text=\"Contraseña\")\n",
    "label2.grid(row=1, column=0, sticky=\"w\", padx=5, pady=5)\n",
    "\n",
    "entry2 = Entry(root)\n",
    "entry2.grid(row=1, column=1, padx=5, pady=5)\n",
    "entry2.config(justify=\"center\", show=\"?\")\n",
    "\n",
    "# Finalmente bucle de la aplicación\n",
    "root.mainloop()"
   ]
  },
  {
   "attachments": {},
   "cell_type": "markdown",
   "metadata": {},
   "source": [
    "## Text "
   ]
  },
  {
   "cell_type": "code",
   "execution_count": null,
   "metadata": {},
   "outputs": [],
   "source": [
    "from tkinter import *\n",
    "\n",
    "# Configuración de la raíz\n",
    "root = Tk()\n",
    "\n",
    "texto = Text(root)\n",
    "texto.pack()\n",
    "texto.config(width=30, height=10, font=(\"Consolas\",12), \n",
    "             padx=15, pady=15, selectbackground=\"red\")\n",
    "\n",
    "# Finalmente bucle de la aplicación\n",
    "root.mainloop()"
   ]
  },
  {
   "attachments": {},
   "cell_type": "markdown",
   "metadata": {},
   "source": [
    "## Button "
   ]
  },
  {
   "cell_type": "code",
   "execution_count": 8,
   "metadata": {},
   "outputs": [
    {
     "name": "stdout",
     "output_type": "stream",
     "text": [
      "Hola mundo!\n"
     ]
    }
   ],
   "source": [
    "from tkinter import *\n",
    "\n",
    "# Definimos una función a ejecutar al clic el botón\n",
    "def hola():\n",
    "    print(\"Hola mundo!\")\n",
    "\n",
    "root = Tk()\n",
    "\n",
    "# Enlezamos la función a la acción del botón\n",
    "Button(root, text=\"Clícame\", command=hola).pack()\n",
    "\n",
    "root.mainloop() "
   ]
  },
  {
   "cell_type": "code",
   "execution_count": null,
   "metadata": {},
   "outputs": [],
   "source": [
    "from tkinter import *\n",
    "\n",
    "# Funciones backend\n",
    "def borrar():\n",
    "    n1.set('')\n",
    "    n2.set('')\n",
    "\n",
    "def sumar():\n",
    "    r.set( float( n1.get() ) + float(n2.get() ) )\n",
    "    borrar()\n",
    "\n",
    "# Estructura del formulario\n",
    "root = Tk()\n",
    "root.config(bd=15)  # borde exterior de 15 píxeles, queda mejor\n",
    "\n",
    "# Tres StringVar para manejar los números y el resultado\n",
    "n1 = StringVar()\n",
    "n2 = StringVar()\n",
    "r = StringVar()\n",
    "\n",
    "Label(root, text=\"Numero 1\").pack()\n",
    "Entry(root, justify=CENTER, textvariable=n1).pack()\n",
    "\n",
    "Label(root, text=\"\\nNumero 2\").pack()\n",
    "Entry(root, justify=CENTER, textvariable=n2).pack()\n",
    "\n",
    "Label(root, text=\"\\nResultado\").pack()\n",
    "Entry(root, justify=CENTER, state=DISABLED, textvariable=r).pack()\n",
    "\n",
    "Label(root).pack() # Separador\n",
    "\n",
    "Button(root, text=\"Sumar\", command=sumar).pack()\n",
    "\n",
    "root.mainloop()"
   ]
  },
  {
   "cell_type": "code",
   "execution_count": 9,
   "metadata": {},
   "outputs": [],
   "source": [
    "from tkinter import *\n",
    "\n",
    "def sumar():\n",
    "    r.set( float(n1.get()) + float(n2.get()) )\n",
    "    borrar()\n",
    "\n",
    "def resta():\n",
    "    r.set( float(n1.get()) - float(n2.get()) )\n",
    "    borrar()\n",
    "\n",
    "def producto():\n",
    "    r.set( float(n1.get()) * float(n2.get()) )\n",
    "    borrar()\n",
    "\n",
    "def borrar():\n",
    "    n1.set(\"\")\n",
    "    n2.set(\"\")\n",
    "\n",
    "# Configuración de la raíz\n",
    "root = Tk()\n",
    "root.config(bd=15)\n",
    "\n",
    "n1 = StringVar()\n",
    "n2 = StringVar()\n",
    "r = StringVar()\n",
    "\n",
    "Label(root, text=\"Número 1\").pack()\n",
    "Entry(root, justify=\"center\", textvariable=n1).pack()\n",
    "\n",
    "Label(root, text=\"Número 2\").pack()\n",
    "Entry(root, justify=\"center\", textvariable=n2).pack()\n",
    "\n",
    "Label(root, text=\"Resultado\").pack()\n",
    "Entry(root, justify=\"center\", textvariable=r, state=\"disabled\").pack()\n",
    "\n",
    "Label(root, text=\"\").pack()  # Separador\n",
    "\n",
    "Button(root, text=\"Sumar\", command=sumar).pack(side=\"left\")\n",
    "Button(root, text=\"Resta\", command=resta).pack(side=\"left\")\n",
    "Button(root, text=\"Producto\", command=producto).pack(side=\"left\")\n",
    "\n",
    "# Finalmente bucle de la aplicación\n",
    "root.mainloop()"
   ]
  },
  {
   "attachments": {},
   "cell_type": "markdown",
   "metadata": {},
   "source": [
    "## Radiobutton "
   ]
  },
  {
   "cell_type": "code",
   "execution_count": 10,
   "metadata": {},
   "outputs": [],
   "source": [
    "from tkinter import *\n",
    "\n",
    "def seleccionar():\n",
    "    monitor.config(text=\"{}\".format(opcion.get()))\n",
    "\n",
    "def reset():\n",
    "    opcion.set(None)\n",
    "    monitor.config(text=\"\")\n",
    "\n",
    "# Configuración de la raíz\n",
    "root = Tk()\n",
    "\n",
    "opcion = IntVar()\n",
    "\n",
    "Radiobutton(root, text=\"Opción 1\", variable=opcion, \n",
    "            value=1, command=seleccionar).pack()\n",
    "Radiobutton(root, text=\"Opción 2\", variable=opcion, \n",
    "            value=2, command=seleccionar).pack()\n",
    "Radiobutton(root, text=\"Opción 3\", variable=opcion,   \n",
    "            value=3, command=seleccionar).pack()\n",
    "\n",
    "monitor = Label(root)\n",
    "monitor.pack()\n",
    "\n",
    "Button(root, text=\"Reiniciar\", command=reset).pack()\n",
    "\n",
    "# Finalmente bucle de la aplicación\n",
    "root.mainloop()"
   ]
  },
  {
   "attachments": {},
   "cell_type": "markdown",
   "metadata": {},
   "source": [
    "## Checkbutton "
   ]
  },
  {
   "cell_type": "code",
   "execution_count": 13,
   "metadata": {},
   "outputs": [
    {
     "ename": "TclError",
     "evalue": "image \"pyimage4\" doesn't exist",
     "output_type": "error",
     "traceback": [
      "\u001b[1;31m---------------------------------------------------------------------------\u001b[0m",
      "\u001b[1;31mTclError\u001b[0m                                  Traceback (most recent call last)",
      "Cell \u001b[1;32mIn[13], line 26\u001b[0m\n\u001b[0;32m     23\u001b[0m azucar \u001b[39m=\u001b[39m IntVar()   \u001b[39m# 1 si, 0 no\u001b[39;00m\n\u001b[0;32m     25\u001b[0m imagen \u001b[39m=\u001b[39m PhotoImage(file\u001b[39m=\u001b[39m\u001b[39m\"\u001b[39m\u001b[39mC:/Users/Juan/Desktop/AF-PYTHON/DATOS/imagen.gif\u001b[39m\u001b[39m\"\u001b[39m)\n\u001b[1;32m---> 26\u001b[0m Label(root, image\u001b[39m=\u001b[39;49mimagen)\u001b[39m.\u001b[39mpack(side\u001b[39m=\u001b[39m\u001b[39m\"\u001b[39m\u001b[39mleft\u001b[39m\u001b[39m\"\u001b[39m)\n\u001b[0;32m     28\u001b[0m frame \u001b[39m=\u001b[39m Frame(root)\n\u001b[0;32m     29\u001b[0m frame\u001b[39m.\u001b[39mpack(side\u001b[39m=\u001b[39m\u001b[39m\"\u001b[39m\u001b[39mleft\u001b[39m\u001b[39m\"\u001b[39m)\n",
      "File \u001b[1;32mc:\\Users\\Juan\\AppData\\Local\\Programs\\Python\\Python310\\lib\\tkinter\\__init__.py:3177\u001b[0m, in \u001b[0;36mLabel.__init__\u001b[1;34m(self, master, cnf, **kw)\u001b[0m\n\u001b[0;32m   3159\u001b[0m \u001b[39mdef\u001b[39;00m \u001b[39m__init__\u001b[39m(\u001b[39mself\u001b[39m, master\u001b[39m=\u001b[39m\u001b[39mNone\u001b[39;00m, cnf\u001b[39m=\u001b[39m{}, \u001b[39m*\u001b[39m\u001b[39m*\u001b[39mkw):\n\u001b[0;32m   3160\u001b[0m \u001b[39m    \u001b[39m\u001b[39m\"\"\"Construct a label widget with the parent MASTER.\u001b[39;00m\n\u001b[0;32m   3161\u001b[0m \n\u001b[0;32m   3162\u001b[0m \u001b[39m    STANDARD OPTIONS\u001b[39;00m\n\u001b[1;32m   (...)\u001b[0m\n\u001b[0;32m   3175\u001b[0m \n\u001b[0;32m   3176\u001b[0m \u001b[39m    \"\"\"\u001b[39;00m\n\u001b[1;32m-> 3177\u001b[0m     Widget\u001b[39m.\u001b[39;49m\u001b[39m__init__\u001b[39;49m(\u001b[39mself\u001b[39;49m, master, \u001b[39m'\u001b[39;49m\u001b[39mlabel\u001b[39;49m\u001b[39m'\u001b[39;49m, cnf, kw)\n",
      "File \u001b[1;32mc:\\Users\\Juan\\AppData\\Local\\Programs\\Python\\Python310\\lib\\tkinter\\__init__.py:2601\u001b[0m, in \u001b[0;36mBaseWidget.__init__\u001b[1;34m(self, master, widgetName, cnf, kw, extra)\u001b[0m\n\u001b[0;32m   2599\u001b[0m \u001b[39mfor\u001b[39;00m k, v \u001b[39min\u001b[39;00m classes:\n\u001b[0;32m   2600\u001b[0m     \u001b[39mdel\u001b[39;00m cnf[k]\n\u001b[1;32m-> 2601\u001b[0m \u001b[39mself\u001b[39;49m\u001b[39m.\u001b[39;49mtk\u001b[39m.\u001b[39;49mcall(\n\u001b[0;32m   2602\u001b[0m     (widgetName, \u001b[39mself\u001b[39;49m\u001b[39m.\u001b[39;49m_w) \u001b[39m+\u001b[39;49m extra \u001b[39m+\u001b[39;49m \u001b[39mself\u001b[39;49m\u001b[39m.\u001b[39;49m_options(cnf))\n\u001b[0;32m   2603\u001b[0m \u001b[39mfor\u001b[39;00m k, v \u001b[39min\u001b[39;00m classes:\n\u001b[0;32m   2604\u001b[0m     k\u001b[39m.\u001b[39mconfigure(\u001b[39mself\u001b[39m, v)\n",
      "\u001b[1;31mTclError\u001b[0m: image \"pyimage4\" doesn't exist"
     ]
    }
   ],
   "source": [
    "from tkinter import *\n",
    "\n",
    "def seleccionar():\n",
    "    cadena = \"\"\n",
    "    if (leche.get()):\n",
    "        cadena += \"Con leche\"\n",
    "    else:\n",
    "        cadena += \"Sin leche\"\n",
    "\n",
    "    if (azucar.get()):\n",
    "        cadena += \" y con azúcar\"\n",
    "    else:\n",
    "        cadena += \" y sin azúcar\"\n",
    "\n",
    "    monitor.config(text=cadena)\n",
    "\n",
    "# Configuración de la raíz\n",
    "root = Tk()\n",
    "root.title(\"Cafetería\")\n",
    "root.config(bd=15)\n",
    "\n",
    "leche = IntVar()    # 1 si, 0 no\n",
    "azucar = IntVar()   # 1 si, 0 no\n",
    "\n",
    "imagen = PhotoImage(file=\"C:/Users/Juan/Desktop/AF-PYTHON/DATOS/imagen.gif\")\n",
    "Label(root, image=imagen).pack(side=\"left\")\n",
    "\n",
    "frame = Frame(root)\n",
    "frame.pack(side=\"left\")\n",
    "\n",
    "Label(frame, text=\"¿Cómo quieres el café?\").pack(anchor=\"w\")\n",
    "Checkbutton(frame, text=\"Con leche\", variable=leche, onvalue=1, \n",
    "            offvalue=0, command=seleccionar).pack(anchor=\"w\")\n",
    "Checkbutton(frame, text=\"Con azúcar\", variable=azucar, onvalue=1, \n",
    "            offvalue=0, command=seleccionar).pack(anchor=\"w\")\n",
    "\n",
    "monitor = Label(frame)\n",
    "monitor.pack()\n",
    "\n",
    "# Finalmente bucle de la aplicación\n",
    "root.mainloop()"
   ]
  },
  {
   "attachments": {},
   "cell_type": "markdown",
   "metadata": {},
   "source": [
    "## Menu "
   ]
  },
  {
   "cell_type": "code",
   "execution_count": 14,
   "metadata": {},
   "outputs": [],
   "source": [
    "from tkinter import *\n",
    "\n",
    "# Configuración de la raíz\n",
    "root = Tk()\n",
    "\n",
    "menubar = Menu(root)\n",
    "root.config(menu=menubar)\n",
    "\n",
    "filemenu = Menu(menubar, tearoff=0)\n",
    "filemenu.add_command(label=\"Nuevo\")\n",
    "filemenu.add_command(label=\"Abrir\")\n",
    "filemenu.add_command(label=\"Guardar\")\n",
    "filemenu.add_command(label=\"Cerrar\")\n",
    "filemenu.add_separator()\n",
    "filemenu.add_command(label=\"Salir\", command=root.quit)\n",
    "\n",
    "editmenu = Menu(menubar, tearoff=0)\n",
    "editmenu.add_command(label=\"Cortar\")\n",
    "editmenu.add_command(label=\"Copiar\")\n",
    "editmenu.add_command(label=\"Pegar\")\n",
    "\n",
    "helpmenu = Menu(menubar, tearoff=0)\n",
    "helpmenu.add_command(label=\"Ayuda\")\n",
    "helpmenu.add_separator()\n",
    "helpmenu.add_command(label=\"Acerca de...\")\n",
    "\n",
    "menubar.add_cascade(label=\"Archivo\", menu=filemenu)\n",
    "menubar.add_cascade(label=\"Editar\", menu=editmenu)\n",
    "menubar.add_cascade(label=\"Ayuda\", menu=helpmenu)\n",
    "\n",
    "# Finalmente bucle de la aplicación\n",
    "root.mainloop()"
   ]
  }
 ],
 "metadata": {
  "kernelspec": {
   "display_name": "Python 3",
   "language": "python",
   "name": "python3"
  },
  "language_info": {
   "codemirror_mode": {
    "name": "ipython",
    "version": 3
   },
   "file_extension": ".py",
   "mimetype": "text/x-python",
   "name": "python",
   "nbconvert_exporter": "python",
   "pygments_lexer": "ipython3",
   "version": "3.10.4"
  },
  "orig_nbformat": 4
 },
 "nbformat": 4,
 "nbformat_minor": 2
}
