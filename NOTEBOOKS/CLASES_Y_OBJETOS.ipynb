{
  "nbformat": 4,
  "nbformat_minor": 0,
  "metadata": {
    "colab": {
      "provenance": []
    },
    "kernelspec": {
      "name": "python3",
      "display_name": "Python 3"
    },
    "language_info": {
      "name": "python"
    }
  },
  "cells": [
    {
      "cell_type": "markdown",
      "source": [
        "## Definir una clase"
      ],
      "metadata": {
        "id": "1qA8xTVJX84A"
      }
    },
    {
      "cell_type": "code",
      "source": [
        "# Crear una clase con constructor o inicializador\n",
        "class Persona:\n",
        "    \n",
        "    # constructor o inicializador\n",
        "    def __init__(self, nombre, edad) :\n",
        "        # atributos o propiedades publicas\n",
        "        self.nombre = nombre\n",
        "        self.edad = edad\n",
        "    \n",
        "    def mostrarInfo(self) :\n",
        "        print(\"Hola, me llamo\", self.nombre, \"y tengo\", self.edad, \"años\")        \n",
        "\n",
        "# Crear objetos de Persona\n",
        "juan = Persona(\"Juan\", 27)\n",
        "maria = Persona(\"Maria\", 35)\n",
        "\n",
        "# Invocar a los recursos de un objeto (objeto.recurso_publico)\n",
        "juan.mostrarInfo()\n",
        "maria.mostrarInfo()\n",
        "\n",
        "juan.edad = 28\n",
        "juan.mostrarInfo()"
      ],
      "metadata": {
        "id": "IJ_uEVx0YHAx"
      },
      "execution_count": null,
      "outputs": []
    },
    {
      "cell_type": "code",
      "source": [
        "class Perro:\n",
        "  especie = \"Mamífero\"\n",
        "  def __init__(self, nombre, raza):\n",
        "    print(\"Creando perro \" + nombre + \", \" + raza)\n",
        "    self.nombre = nombre\n",
        "    self.raza = raza\n",
        "  def ladra(self):\n",
        "    print(\"Guau\")\n",
        "  def camina(self, pasos):\n",
        "    print(\"Caminando \" + str(pasos) + \" pasos\")"
      ],
      "metadata": {
        "id": "Dd00NATeX9MR"
      },
      "execution_count": null,
      "outputs": []
    },
    {
      "cell_type": "markdown",
      "source": [
        "## Composición de clases"
      ],
      "metadata": {
        "id": "EgPRb3YVYK_y"
      }
    },
    {
      "cell_type": "code",
      "source": [
        "class Direccion:\n",
        "  def __init__(self, calle, numero, poblacion):\n",
        "    self.calle = calle\n",
        "    self.numero= numero\n",
        "    self.poblacion = poblacion\n",
        "  def mostrar(self):\n",
        "    return self.calle + \", \" + str(self.numero) + \" (\" + self.poblacion + \")\"\n",
        "  \n",
        "class Persona:\n",
        "    def __init__(self, nombre, edad, direccion):\n",
        "      self.nombre = nombre\n",
        "      self.edad = edad\n",
        "      self.direccion = direccion\n",
        "    def mostrarInfo(self):\n",
        "      print(\"Hola, me llamo {}, tengo {} años y vivo en {}\".format(self.nombre, self.edad, self.direccion.mostrar()))\n",
        "\n",
        "dir = Direccion(\"Calle Mayor\", 5, \"Madrid\")\n",
        "\n",
        "juan = Persona(\"Juan\", 27, dir)\n",
        "\n",
        "juan.mostrarInfo()"
      ],
      "metadata": {
        "id": "zWH23WPrYNPw"
      },
      "execution_count": null,
      "outputs": []
    },
    {
      "cell_type": "markdown",
      "source": [
        "## Encapsulación"
      ],
      "metadata": {
        "id": "0tlqpZRGYSVS"
      }
    },
    {
      "cell_type": "code",
      "source": [
        "class Clase:\n",
        "    atributo_clase = \"Hola\"   # Accesible desde el exterior\n",
        "    __atributo_clase = \"Hola\" # No accesible\n",
        "\n",
        "    # No accesible desde el exterior\n",
        "    def __mi_metodo(self):\n",
        "        print(\"Haz algo\")\n",
        "        self.__variable = 0\n",
        "\n",
        "    # Accesible desde el exterior\n",
        "    def metodo_normal(self):\n",
        "        # El método si es accesible desde el interior\n",
        "        self.__mi_metodo()\n",
        "\n",
        "mi_clase = Clase()\n",
        "mi_clase.__atributo_clase  # Error! El atributo no es accesible\n",
        "mi_clase.__mi_metodo()     # Error! El método no es accesible\n",
        "mi_clase.atributo_clase     # Ok!\n",
        "mi_clase.metodo_normal()    # Ok!\n",
        "\n",
        "print(dir(mi_clase))\n",
        "\n",
        "mi_clase._Clase__atributo_clase\n",
        "# 'Hola'\n",
        "mi_clase._Clase__mi_metodo()\n",
        "# 'Haz algo'"
      ],
      "metadata": {
        "id": "-TAvrb5TYUx5"
      },
      "execution_count": null,
      "outputs": []
    },
    {
      "cell_type": "markdown",
      "source": [
        "## Herencia"
      ],
      "metadata": {
        "id": "aC-Zw8YeYbad"
      }
    },
    {
      "cell_type": "code",
      "source": [
        "class Animal:\n",
        "  def __init__(self, especie, edad):\n",
        "    self.especie = especie\n",
        "    self.edad = edad\n",
        "  \n",
        "  def hablar(self):\n",
        "    pass\n",
        "  \n",
        "  def moverse(self):\n",
        "    pass\n",
        "  \n",
        "  def describeme(self):\n",
        "    print(\"Soy un animal del tipo\", type(self).__name__)\n",
        "\n",
        "class Perro(Animal):\n",
        "  def hablar(self):\n",
        "    print(\"Guau\")\n",
        "  def moverse(self):\n",
        "    print(\"Caminando\")\n",
        "\n",
        "class Abeja(Animal):\n",
        "  def hablar(self):\n",
        "    print(\"Bzzzzz\")\n",
        "  def moverse(self):\n",
        "    print(\"Volando\")\n",
        "  def picar(self):\n",
        "    print(\"Picando\")\n",
        "\n",
        "\n",
        "mi_perro=Perro(\"mamífero\", 10)\n",
        "\n",
        "mi_perro.hablar()\n",
        "\n",
        "mi_abeja=Abeja(\"insecto\", 1)\n",
        "\n",
        "mi_abeja.describeme()\n",
        "\n",
        "mi_abeja.picar()"
      ],
      "metadata": {
        "id": "A7E4A9w6YdHR"
      },
      "execution_count": null,
      "outputs": []
    },
    {
      "cell_type": "markdown",
      "source": [
        "## super()"
      ],
      "metadata": {
        "id": "Z-67-u1aYhWJ"
      }
    },
    {
      "cell_type": "code",
      "source": [
        "class Vehiculo:\n",
        "    \n",
        "    def __init__(self, motor, velocidad):\n",
        "        self.__motor = motor # True o False\n",
        "        self.__velocidad = velocidad\n",
        "        \n",
        "    def isMotor(self):\n",
        "        return self.__motor\n",
        "    \n",
        "    def getVelocidad(self):\n",
        "        return self.__velocidad\n",
        "    \n",
        "    def arrancar(self):\n",
        "        print(\"Arrancando el vehiculo\")\n",
        "        \n",
        "    def parar(self):\n",
        "        print(\"Parando el vehiculo\")\n",
        "        \n",
        "    def info(self):\n",
        "        return \"Tiene motor: \" + str(self.__motor) + \" Velocidad: \" + str(self.__velocidad)\n",
        "  \n",
        "    \n",
        "class Coche(Vehiculo):\n",
        "    \n",
        "    def __init__(self, motor, velocidad, plazas, combustible):\n",
        "        super().__init__(motor, velocidad)\n",
        "        self.__plazas = plazas\n",
        "        self.__combustible = combustible\n",
        "        \n",
        "    def getPlazas(self):\n",
        "        return self.__plazas\n",
        "    \n",
        "    def getCombustible(self):\n",
        "        return self.__combustible\n",
        "    \n",
        "    def repostar(self):\n",
        "        print(\"El coche necesita repostar\")\n",
        "        \n",
        "    def info(self):\n",
        "        return super().info() + \" Plazas: \" + str(self.__plazas) + \" Combustible: \" + self.__combustible\n",
        "  \n",
        "coche = Coche(True, 200, 5, \"Gasolina\")\n",
        "print(coche.info())\n",
        "\n",
        "coche.repostar()\n",
        "coche.arrancar()"
      ],
      "metadata": {
        "id": "WvgwjMdyYgrj"
      },
      "execution_count": null,
      "outputs": []
    },
    {
      "cell_type": "markdown",
      "source": [
        "## Herencia múltiple"
      ],
      "metadata": {
        "id": "ADU3Na4xYpNl"
      }
    },
    {
      "cell_type": "code",
      "source": [
        "class Animal: \n",
        "  def __init__(self,nombre,edad):\n",
        "    self.__nombre = nombre\n",
        "    self.__edad = edad\n",
        "  def info(self):\n",
        "    return \"Nombre: \" + self.__nombre + \" Edad: \" + str(self.__edad)\n",
        "\n",
        "class Venta: \n",
        "  def __init__(self, codigo, precio):\n",
        "    self.__codigo = codigo\n",
        "    self.__precio = precio\n",
        "  def info(self):\n",
        "    return \" Codigo: \" + self.__codigo + \" Precio: \" + str(self.__precio)\n",
        "\n",
        "class Perro(Animal, Venta):\n",
        "  def __init__(self, nombre, edad, codigo, precio, vacunado, sexo):\n",
        "    Animal.__init__(self,nombre,edad)\n",
        "    Venta.__init__(self, codigo, precio)\n",
        "    self.__vacunado = vacunado\n",
        "    self.__sexo = sexo\n",
        "  \n",
        "  def info(self):\n",
        "    return Animal.info(self) + Venta.info(self) + \" Vacunado: \" + str(self.__vacunado) + \" Sexo: \" + self.__sexo\n",
        "\n",
        "perro = Perro(\"Fifi\", 4, \"PE-001\", 200, True, \"Macho\")\n",
        "\n",
        "print(perro.info())"
      ],
      "metadata": {
        "id": "MfyvQzbIYoA7"
      },
      "execution_count": null,
      "outputs": []
    }
  ]
}