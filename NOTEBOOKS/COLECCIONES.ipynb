{
  "nbformat": 4,
  "nbformat_minor": 0,
  "metadata": {
    "colab": {
      "provenance": []
    },
    "kernelspec": {
      "name": "python3",
      "display_name": "Python 3"
    },
    "language_info": {
      "name": "python"
    }
  },
  "cells": [
    {
      "cell_type": "markdown",
      "source": [
        "# Listas"
      ],
      "metadata": {
        "id": "XOKf2rOIC2ZG"
      }
    },
    {
      "cell_type": "code",
      "source": [
        "colores = ['rojo', ('rosa', 'verde'), 'azul']\n",
        "\n",
        "print(colores)\n",
        "print(colores[1])\n",
        "\n",
        "# eliminar elemento por indice\n",
        "del colores[2]\n",
        "print(colores)\n",
        "\n",
        "mascolores = ['blanco', 'negro', 'rosa', 'azul']\n",
        "\n",
        "# concatenar listas\n",
        "lista = colores + mascolores\n",
        "print(lista)\n",
        "\n",
        "# eliminar elemento por valor \n",
        "lista.remove('rosa')\n",
        "print(lista)\n",
        "\n",
        "# agregar nuevo elemento al final\n",
        "lista.append('naranja')\n",
        "print(lista)\n",
        "\n",
        "# insertarlo en una posición\n",
        "lista.insert(0,'marron')\n",
        "print(lista)\n",
        "\n",
        "# contar numero de apariciones\n",
        "print(lista.count('verde'))\n",
        "\n",
        "# recorres la lista\n",
        "print(lista[-1])\n",
        "print(lista[-3])\n",
        "print(lista[-3:])\n",
        "print(lista[:])\n",
        "print(lista[2:4])\n",
        "\n",
        "# listas de listas\n",
        "pc = [\"ordenador\", \"teclado\", [\"tarjeta de sonido\", \"microfono\", [\"altavoz externo\", \"altavoz interno\"]]]\n",
        "\n",
        "print(pc[2][2][1])\n",
        "\n",
        "# zip y unzip\n",
        "a = [1, 2]\n",
        "b = [\"Uno\", \"Dos\"]\n",
        "c = zip(a, b)\n",
        "print(list(c))\n",
        "\n",
        "c = [(1, 'One'), (2, 'Two'), (3, 'Three')]\n",
        "a, b = zip(*c)\n",
        "\n",
        "print(a)  # (1, 2, 3)\n",
        "print(b)  # ('One', 'Two', 'Three')"
      ],
      "metadata": {
        "id": "gDzcvlGHC7Bm"
      },
      "execution_count": null,
      "outputs": []
    },
    {
      "cell_type": "markdown",
      "source": [
        "# Tuplas"
      ],
      "metadata": {
        "id": "i58N9LrPDdm5"
      }
    },
    {
      "cell_type": "code",
      "source": [
        "dias = (\"lunes\", [\"martes\", \"mar\"], \"miercoles\", \"jueves\", \"viernes\", \"sabado\", \"domingo\")\n",
        "\n",
        "print(dias)\n",
        "\n",
        "#for dia in dias:\n",
        "#  print(dia)\n",
        "\n",
        "print(dias[2])\n",
        "\n",
        "# pruebo a eliminar y me da error\n",
        "del dias[0]\n",
        "\n",
        "# puedo agregar pero por que crea otro objeto\n",
        "tupla2 = dias + (\"sabado\")\n",
        "\n",
        "numeros = (1,2,3,4,5)\n",
        "\n",
        "tupla2 = numeros + dias\n",
        "\n",
        "print(tupla2)\n",
        "\n",
        "# no puedo modificar, son inmutables\n",
        "dias[0] = \"lun\"\n",
        "\n",
        "# podemos hacer uso del slicing para modificar\n",
        "\n",
        "T = (1, 2, 3, 4, 5)\n",
        "T = T[:2] + (0,) + T[3:]\n",
        "print(T) #(1, 2, 0, 4, 5)"
      ],
      "metadata": {
        "id": "zQcERyRNDe6v"
      },
      "execution_count": null,
      "outputs": []
    },
    {
      "cell_type": "markdown",
      "source": [
        "# Conjuntos"
      ],
      "metadata": {
        "id": "bMSOLUQ3Dx3W"
      }
    },
    {
      "cell_type": "code",
      "source": [
        "frutas = {'manzana','pera','naranja','pera','platano'}\n",
        "\n",
        "# duplicados aparecen solo una vez\n",
        "print(frutas)\n",
        "\n",
        "print('pera' in frutas)\n",
        "\n",
        "# agregar y eliminar elementos\n",
        "frutas.add('fresas')\n",
        "frutas.remove('platano')\n",
        "print(frutas)\n",
        "\n",
        "# no admiten indexación\n",
        "print(frutas[0])\n",
        "\n",
        "# teoria de conjuntos\n",
        "numeros1 = {1,2,3,4,5,6,7,8,9}\n",
        "numeros2 = {0,2,4,6,8,10}\n",
        "\n",
        "print(numeros1.intersection(numeros2))\n",
        "print(numeros1.difference(numeros2))\n",
        "print(numeros2.difference(numeros1))\n",
        "print(numeros1.symmetric_difference(numeros2))\n",
        "print(numeros1.union(numeros2))\n",
        "\n",
        "# convertir lista en set\n",
        "color = set(colores)\n",
        "print(color)"
      ],
      "metadata": {
        "id": "UORbu0GVD0A2"
      },
      "execution_count": null,
      "outputs": []
    },
    {
      "cell_type": "markdown",
      "source": [
        "# Diccionarios"
      ],
      "metadata": {
        "id": "9sVBJryREEcl"
      }
    },
    {
      "cell_type": "code",
      "source": [
        "alumnos = {\"Juan\":[2,3,6], \"Maria\": 8.3, \"Luis\": 6.4, \"Adolfo\":7.1, \"Maria\":9.3}\n",
        "print(type(alumnos))\n",
        "print(alumnos)\n",
        "\n",
        "# obtener valores y claves\n",
        "print(alumnos.keys())\n",
        "print(alumnos.values())\n",
        "\n",
        "print(alumnos['Luis'])\n",
        "\n",
        "# modificar un valor\n",
        "alumnos['Pedro']=6.2\n",
        "\n",
        "# otra forma de definirlas\n",
        "diction = dict(Luis=9,Jose=8,Pedro=6)\n",
        "\n",
        "print(\"Maria\" in alumnos)\n",
        "\n",
        "# eliminar elemento\n",
        "del alumnos['Adolfo']\n",
        "\n",
        "# acceder elemento de lista \n",
        "print(alumnos['Juan'][0])"
      ],
      "metadata": {
        "id": "3daDgZylELqb"
      },
      "execution_count": null,
      "outputs": []
    }
  ]
}