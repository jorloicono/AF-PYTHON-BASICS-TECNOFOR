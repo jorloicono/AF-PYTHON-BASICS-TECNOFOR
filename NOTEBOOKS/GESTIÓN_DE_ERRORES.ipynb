{
  "nbformat": 4,
  "nbformat_minor": 0,
  "metadata": {
    "colab": {
      "provenance": []
    },
    "kernelspec": {
      "name": "python3",
      "display_name": "Python 3"
    },
    "language_info": {
      "name": "python"
    }
  },
  "cells": [
    {
      "cell_type": "markdown",
      "source": [
        "## TRY - EXCEPT"
      ],
      "metadata": {
        "id": "mevAQ2a8128R"
      }
    },
    {
      "cell_type": "code",
      "source": [
        "a = 5; b = 0\n",
        "try:\n",
        "    c = a/b\n",
        "except:\n",
        "    print(\"No se ha podido realizar la división\")"
      ],
      "metadata": {
        "id": "P9eUmtaD16BM"
      },
      "execution_count": null,
      "outputs": []
    },
    {
      "cell_type": "markdown",
      "source": [
        "## TRY - EXCEPT (Especificando error)"
      ],
      "metadata": {
        "id": "FJk-iiub19O4"
      }
    },
    {
      "cell_type": "code",
      "source": [
        "try:\n",
        "    #c = 5/0       # Si comentas esto entra en TypeError\n",
        "    d = 2 + \"Hola\" # Si comentas esto entra en ZeroDivisionError\n",
        "except ZeroDivisionError:\n",
        "    print(\"No se puede dividir entre cero!\")\n",
        "except TypeError:\n",
        "    print(\"Problema de tipos!\")"
      ],
      "metadata": {
        "id": "1xMG2S6R2B4P"
      },
      "execution_count": null,
      "outputs": []
    },
    {
      "cell_type": "markdown",
      "source": [
        "## TRY - EXCEPT - ELSE"
      ],
      "metadata": {
        "id": "C1C6yaFt2Ki6"
      }
    },
    {
      "cell_type": "code",
      "source": [
        "try:\n",
        "    # Forzamos una excepción al dividir entre 0\n",
        "    x = 2/0\n",
        "except:\n",
        "    print(\"Entra en except, ha ocurrido una excepción\")\n",
        "else:\n",
        "    print(\"Entra en else, no ha ocurrido ninguna excepción\")"
      ],
      "metadata": {
        "id": "utr_nGV82O2I"
      },
      "execution_count": null,
      "outputs": []
    },
    {
      "cell_type": "markdown",
      "source": [
        "## TRY - EXCEPT- FINALLY"
      ],
      "metadata": {
        "id": "gMaYgOe82S-A"
      }
    },
    {
      "cell_type": "code",
      "source": [
        "try:\n",
        "    # Forzamos excepción\n",
        "    x = 2/0\n",
        "except:\n",
        "    # Se entra ya que ha habido una excepción\n",
        "    print(\"Entra en except, ha ocurrido una excepción\")\n",
        "finally:\n",
        "    # También entra porque finally es ejecutado siempre\n",
        "    print(\"Entra en finally, se ejecuta el bloque finally\")"
      ],
      "metadata": {
        "id": "OAtdf_mT2Vvb"
      },
      "execution_count": null,
      "outputs": []
    },
    {
      "cell_type": "markdown",
      "source": [
        "## EJEMPLO COMPLETO"
      ],
      "metadata": {
        "id": "CDcRuI8a2aHb"
      }
    },
    {
      "cell_type": "code",
      "source": [
        "try:\n",
        "  #lista = [1,2,3,4]\n",
        "  #print(lista[4])\n",
        "  #c=5/0\n",
        "  #d=2+\"Hola\"\n",
        "  #e=9/9\n",
        "  dict={\"clave1\": \"valor1\", \"clave2\":\"valor2\"}\n",
        "  print(dict[\"clave3\"])\n",
        "except ZeroDivisionError:\n",
        "  print(\"No puedo dividir por 0!\")\n",
        "except Exception as ex:\n",
        "  print(\"Ha habido un error!\", type(ex))\n",
        "else : \n",
        "  print(\"El resultado es: \" + str(e))\n",
        "  print(\"Sin errores\")\n",
        "finally :\n",
        "  print(\"Programa finalizado\")"
      ],
      "metadata": {
        "id": "StN3V-oH2b4e"
      },
      "execution_count": null,
      "outputs": []
    }
  ]
}