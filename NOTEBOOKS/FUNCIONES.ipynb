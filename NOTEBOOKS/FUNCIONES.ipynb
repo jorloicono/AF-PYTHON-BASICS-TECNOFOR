{
  "cells": [
    {
      "cell_type": "markdown",
      "metadata": {
        "id": "e25wER2Bj3ss"
      },
      "source": [
        "## Definir funciones"
      ]
    },
    {
      "cell_type": "code",
      "execution_count": null,
      "metadata": {
        "id": "5vr83NG0j54N"
      },
      "outputs": [],
      "source": [
        "def saludar(nombre):\n",
        "    print(\"Hola\", nombre, \"que bien que es martes\")\n",
        "    \n",
        "def despedir() :\n",
        "    return \"Adios, nos vemos el lunes\"\n",
        "\n",
        "saludar(\"Jose\")\n",
        "\n",
        "print(despedir())"
      ]
    },
    {
      "cell_type": "markdown",
      "metadata": {
        "id": "XdBGuHUej8r0"
      },
      "source": [
        "## Retornar mas de un valor"
      ]
    },
    {
      "cell_type": "code",
      "execution_count": null,
      "metadata": {
        "id": "ZoEUvPjXj_Gu"
      },
      "outputs": [],
      "source": [
        "def procesarTexto(texto):\n",
        "  mayusculas = texto.upper()\n",
        "  minusculas = texto.lower()\n",
        "  longitud = len(texto)\n",
        "  return mayusculas, minusculas, longitud\n",
        "\n",
        "txtmayusculas, txtminusculas, txtlongitud = procesarTexto(\"Hola, buenos dias!\")\n",
        "\n",
        "print(txtlongitud)\n",
        "print(txtmayusculas)\n",
        "print(txtminusculas)\n",
        "\n",
        "lista = procesarTexto(\"Hola, buenos dias!\")\n",
        "print(lista)"
      ]
    },
    {
      "cell_type": "markdown",
      "metadata": {
        "id": "lmqSEEZ9kB5N"
      },
      "source": [
        "## Parámetros por defecto"
      ]
    },
    {
      "cell_type": "code",
      "execution_count": null,
      "metadata": {
        "id": "LZZCFlNrkDvu"
      },
      "outputs": [],
      "source": [
        "def datosTrabajador(nombre, estadoCivil=\"Casado\", sueldo=20000):\n",
        "  return nombre + \" está \" + estadoCivil + \" y gana \" + str(sueldo)\n",
        "\n",
        "print(datosTrabajador(\"Juan\"))\n",
        "print(datosTrabajador(\"Juan\",\"\" ,90000))\n",
        "print(datosTrabajador(\"Juan\",\"Casado\", 30000))\n",
        "print(datosTrabajador(\"Juan\", sueldo=30000))"
      ]
    },
    {
      "cell_type": "markdown",
      "metadata": {
        "id": "tJs42S5BkJNn"
      },
      "source": [
        "## Argumentos variables"
      ]
    },
    {
      "cell_type": "code",
      "execution_count": null,
      "metadata": {
        "id": "qmbPdn_tkLI_"
      },
      "outputs": [],
      "source": [
        "def suma(*numeros):\n",
        "    print(type(numeros))\n",
        "    # <class 'tuple'>\n",
        "    total = 0\n",
        "    for n in numeros:\n",
        "        total += n\n",
        "    return total\n",
        "suma(1, 3, 5, 4)\n",
        "\n",
        "def suma(**kwargs):\n",
        "    suma = 0;\n",
        "    for key, value in kwargs.items():\n",
        "        print(key, value)\n",
        "        suma += value\n",
        "    return suma\n",
        "\n",
        "suma(a=5, b=20, c=23)"
      ]
    },
    {
      "cell_type": "markdown",
      "metadata": {
        "id": "dtKumPyAkk5x"
      },
      "source": [
        "## Mezclando args y kwargs"
      ]
    },
    {
      "cell_type": "code",
      "execution_count": null,
      "metadata": {
        "id": "46zVGrVIkiof"
      },
      "outputs": [],
      "source": [
        "def funcion(a, b, *args, **kwargs):\n",
        "    print(\"a =\", a)\n",
        "    print(\"b =\", b)\n",
        "    for arg in args:\n",
        "        print(\"args =\", arg)\n",
        "    for key, value in kwargs.items():\n",
        "        print(key, \"=\", value)\n",
        "\n",
        "funcion(10, 20, 1, 2, 3, 4, x=\"Hola\", y=\"Que\", z=\"Tal\")"
      ]
    },
    {
      "cell_type": "markdown",
      "metadata": {
        "id": "7iZyIF-dkos9"
      },
      "source": [
        "## Documentar función"
      ]
    },
    {
      "cell_type": "code",
      "execution_count": null,
      "metadata": {
        "id": "RxuNdi1Bkqha"
      },
      "outputs": [],
      "source": [
        "def mi_funcion_suma(a, b):\n",
        "    \"\"\"\n",
        "    Descripción de la función. Como debe ser usada,\n",
        "    que parámetros acepta y que devuelve\n",
        "    \"\"\"\n",
        "    return a+b\n",
        "\n",
        "help(mi_funcion_suma)"
      ]
    }
  ],
  "metadata": {
    "colab": {
      "provenance": []
    },
    "kernelspec": {
      "display_name": "Python 3",
      "name": "python3"
    },
    "language_info": {
      "name": "python",
      "version": "3.10.4"
    }
  },
  "nbformat": 4,
  "nbformat_minor": 0
}
